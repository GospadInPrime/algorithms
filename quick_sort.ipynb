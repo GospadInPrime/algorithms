{
 "cells": [
  {
   "cell_type": "code",
   "execution_count": 2,
   "metadata": {},
   "outputs": [],
   "source": [
    "# Код быстрой сортировки\n",
    "def quicksort(array):\n",
    "    if len(array)< 2:\n",
    "        return array    # Базовый случай\n",
    "    else:\n",
    "        pivot = array[0]    # Рекурсивный случай\n",
    "        less = [i for i in array[1:] if i <= pivot]    # Подмассив всех элементов меньше опорного\n",
    "\n",
    "        greater = [i for i in array[1:] if i > pivot]    # Подмасси всех элементов больше опорного\n",
    "\n",
    "        return quicksort(less) + [pivot] + quicksort(greater)\n",
    "    "
   ]
  },
  {
   "cell_type": "code",
   "execution_count": 3,
   "metadata": {},
   "outputs": [
    {
     "data": {
      "text/plain": [
       "[2, 3, 5, 10]"
      ]
     },
     "execution_count": 3,
     "metadata": {},
     "output_type": "execute_result"
    }
   ],
   "source": [
    "quicksort([10, 5, 2 , 3])"
   ]
  }
 ],
 "metadata": {
  "kernelspec": {
   "display_name": "Python 3",
   "language": "python",
   "name": "python3"
  },
  "language_info": {
   "codemirror_mode": {
    "name": "ipython",
    "version": 3
   },
   "file_extension": ".py",
   "mimetype": "text/x-python",
   "name": "python",
   "nbconvert_exporter": "python",
   "pygments_lexer": "ipython3",
   "version": "3.9.0"
  },
  "orig_nbformat": 4
 },
 "nbformat": 4,
 "nbformat_minor": 2
}
