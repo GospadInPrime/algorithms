{
 "cells": [
  {
   "cell_type": "markdown",
   "metadata": {},
   "source": [
    "Операции с двумя множествами"
   ]
  },
  {
   "cell_type": "code",
   "execution_count": 4,
   "metadata": {},
   "outputs": [
    {
     "name": "stdout",
     "output_type": "stream",
     "text": [
      "{'tomato', 'avacado', 'beets', 'carrots', 'banana'}\n",
      "{'tomato'}\n",
      "{'avacado', 'banana'}\n",
      "{'beets', 'carrots'}\n"
     ]
    }
   ],
   "source": [
    "fruits = set(['avacado', 'tomato', 'banana'])\n",
    "vegetables = set(['beets', 'carrots', 'tomato'])\n",
    "# Объединение\n",
    "print(fruits | vegetables)\n",
    "# Пересечение\n",
    "print(fruits & vegetables)\n",
    "# Разность\n",
    "print(fruits - vegetables)\n",
    "print(vegetables - fruits)\n"
   ]
  }
 ],
 "metadata": {
  "kernelspec": {
   "display_name": "Python 3",
   "language": "python",
   "name": "python3"
  },
  "language_info": {
   "codemirror_mode": {
    "name": "ipython",
    "version": 3
   },
   "file_extension": ".py",
   "mimetype": "text/x-python",
   "name": "python",
   "nbconvert_exporter": "python",
   "pygments_lexer": "ipython3",
   "version": "3.9.0"
  },
  "orig_nbformat": 4
 },
 "nbformat": 4,
 "nbformat_minor": 2
}
